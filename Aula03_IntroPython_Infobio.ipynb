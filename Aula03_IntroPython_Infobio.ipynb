{
 "cells": [
  {
   "cell_type": "markdown",
   "metadata": {},
   "source": [
    "# Introdução à Programação Python\n",
    "## Informática Biomédica - UFCSPA\n",
    "## Profa. Ana Trindade Winck \n",
    "\n",
    "#### 13 de Março de 2018"
   ]
  },
  {
   "cell_type": "markdown",
   "metadata": {},
   "source": [
    "# Introdução à Programação Python\n",
    "## Informática Biomédica - UFCSPA\n",
    "## Profa. Ana Trindade Winck \n",
    "\n",
    "#### Estruturas de controle e repetição\n",
    "\n",
    "\n",
    "#### 13 de Março de 2018\n",
    "\n",
    "Materiais retirados ou adaptados de Menezes, N.N.C. \"Introdução à Programação com Python: algoritmos e lógica de programação para iniciantes\". Novactec, 2014.\n",
    "\n",
    "Códigos em python 3\n",
    "\n",
    "![pythonlists](https://s3-us-west-2.amazonaws.com/devcodepro/media/tutorials/listas-python-t1.jpg)\n"
   ]
  },
  {
   "cell_type": "markdown",
   "metadata": {},
   "source": [
    "### Cria listas\n",
    "#### Vazias ou com conteúdo"
   ]
  },
  {
   "cell_type": "markdown",
   "metadata": {},
   "source": [
    "### Acessa listass"
   ]
  },
  {
   "cell_type": "code",
   "execution_count": 5,
   "metadata": {},
   "outputs": [],
   "source": [
    "L = []\n",
    "Z = [15, 8, 9]"
   ]
  },
  {
   "cell_type": "code",
   "execution_count": 6,
   "metadata": {},
   "outputs": [
    {
     "name": "stdout",
     "output_type": "stream",
     "text": [
      "15\n",
      "9\n"
     ]
    }
   ],
   "source": [
    "print(Z[0])\n",
    "print(Z[2])"
   ]
  },
  {
   "cell_type": "markdown",
   "metadata": {},
   "source": [
    "## Exercício:\n",
    "### Crie uma lista de notas, contendo as notas 6, 7, 5, 8 e 9 e calcule a média das notas"
   ]
  },
  {
   "cell_type": "code",
   "execution_count": 7,
   "metadata": {},
   "outputs": [
    {
     "name": "stdout",
     "output_type": "stream",
     "text": [
      "7.0\n"
     ]
    }
   ],
   "source": [
    "notas = [6, 7, 5, 8, 9]\n",
    "soma = 0\n",
    "for i in range(0,5):\n",
    "    soma += notas[i]\n",
    "media = soma/5\n",
    "print(media)"
   ]
  },
  {
   "cell_type": "markdown",
   "metadata": {},
   "source": [
    "### Criando lista com input"
   ]
  },
  {
   "cell_type": "code",
   "execution_count": 8,
   "metadata": {},
   "outputs": [
    {
     "name": "stdout",
     "output_type": "stream",
     "text": [
      "Numero 1: 5\n",
      "Numero 2: 4\n",
      "Numero 3: 3\n",
      "Numero 4: 2\n",
      "Numero 5: 1\n",
      "[5, 4, 3, 2, 1]\n"
     ]
    }
   ],
   "source": [
    "numeros = [0,0,0,0,0]\n",
    "for i in range(0,5):\n",
    "    numeros[i] = int(input(\"Numero %d: \" % (i+1)))\n",
    "print(numeros)"
   ]
  },
  {
   "cell_type": "markdown",
   "metadata": {},
   "source": [
    "### Cópia de Listas"
   ]
  },
  {
   "cell_type": "code",
   "execution_count": 9,
   "metadata": {},
   "outputs": [
    {
     "name": "stdout",
     "output_type": "stream",
     "text": [
      "[1, 2, 3, 4, 5]\n"
     ]
    }
   ],
   "source": [
    "L = [1, 2, 3, 4, 5]\n",
    "print(L)"
   ]
  },
  {
   "cell_type": "code",
   "execution_count": 10,
   "metadata": {},
   "outputs": [
    {
     "name": "stdout",
     "output_type": "stream",
     "text": [
      "[1, 2, 3, 4, 5]\n"
     ]
    }
   ],
   "source": [
    "V = L\n",
    "print(V)"
   ]
  },
  {
   "cell_type": "code",
   "execution_count": 11,
   "metadata": {},
   "outputs": [],
   "source": [
    "V[0] = 6"
   ]
  },
  {
   "cell_type": "code",
   "execution_count": 12,
   "metadata": {},
   "outputs": [
    {
     "name": "stdout",
     "output_type": "stream",
     "text": [
      "[6, 2, 3, 4, 5]\n"
     ]
    }
   ],
   "source": [
    "print(L)"
   ]
  },
  {
   "cell_type": "code",
   "execution_count": 13,
   "metadata": {},
   "outputs": [
    {
     "data": {
      "text/plain": [
       "[6, 2, 3, 4, 5]"
      ]
     },
     "execution_count": 13,
     "metadata": {},
     "output_type": "execute_result"
    }
   ],
   "source": [
    "L[0:5]"
   ]
  },
  {
   "cell_type": "code",
   "execution_count": 14,
   "metadata": {},
   "outputs": [
    {
     "data": {
      "text/plain": [
       "[6, 2, 3, 4, 5]"
      ]
     },
     "execution_count": 14,
     "metadata": {},
     "output_type": "execute_result"
    }
   ],
   "source": [
    "L[:5]"
   ]
  },
  {
   "cell_type": "code",
   "execution_count": 15,
   "metadata": {},
   "outputs": [
    {
     "data": {
      "text/plain": [
       "[6, 2, 3, 4]"
      ]
     },
     "execution_count": 15,
     "metadata": {},
     "output_type": "execute_result"
    }
   ],
   "source": [
    "L[:-1]"
   ]
  },
  {
   "cell_type": "code",
   "execution_count": 16,
   "metadata": {},
   "outputs": [
    {
     "data": {
      "text/plain": [
       "[2, 3]"
      ]
     },
     "execution_count": 16,
     "metadata": {},
     "output_type": "execute_result"
    }
   ],
   "source": [
    "L[1:3]"
   ]
  },
  {
   "cell_type": "code",
   "execution_count": 18,
   "metadata": {},
   "outputs": [
    {
     "data": {
      "text/plain": [
       "[4, 5]"
      ]
     },
     "execution_count": 18,
     "metadata": {},
     "output_type": "execute_result"
    }
   ],
   "source": [
    "L[3:]"
   ]
  },
  {
   "cell_type": "code",
   "execution_count": 19,
   "metadata": {},
   "outputs": [
    {
     "data": {
      "text/plain": [
       "[6, 2, 3]"
      ]
     },
     "execution_count": 19,
     "metadata": {},
     "output_type": "execute_result"
    }
   ],
   "source": [
    "L[:3]"
   ]
  },
  {
   "cell_type": "code",
   "execution_count": 20,
   "metadata": {},
   "outputs": [
    {
     "data": {
      "text/plain": [
       "5"
      ]
     },
     "execution_count": 20,
     "metadata": {},
     "output_type": "execute_result"
    }
   ],
   "source": [
    "L[-1]"
   ]
  },
  {
   "cell_type": "code",
   "execution_count": 21,
   "metadata": {},
   "outputs": [
    {
     "data": {
      "text/plain": [
       "4"
      ]
     },
     "execution_count": 21,
     "metadata": {},
     "output_type": "execute_result"
    }
   ],
   "source": [
    "L[-2]"
   ]
  },
  {
   "cell_type": "markdown",
   "metadata": {},
   "source": [
    "## Tamanho da Lista"
   ]
  },
  {
   "cell_type": "code",
   "execution_count": 22,
   "metadata": {},
   "outputs": [
    {
     "data": {
      "text/plain": [
       "5"
      ]
     },
     "execution_count": 22,
     "metadata": {},
     "output_type": "execute_result"
    }
   ],
   "source": [
    "len(L)"
   ]
  },
  {
   "cell_type": "code",
   "execution_count": 23,
   "metadata": {},
   "outputs": [
    {
     "data": {
      "text/plain": [
       "0"
      ]
     },
     "execution_count": 23,
     "metadata": {},
     "output_type": "execute_result"
    }
   ],
   "source": [
    "V = []\n",
    "len(V)"
   ]
  },
  {
   "cell_type": "markdown",
   "metadata": {},
   "source": [
    "### Repetição com tamanho da lista"
   ]
  },
  {
   "cell_type": "code",
   "execution_count": 24,
   "metadata": {},
   "outputs": [
    {
     "name": "stdout",
     "output_type": "stream",
     "text": [
      "1\n",
      "2\n",
      "3\n"
     ]
    }
   ],
   "source": [
    "L = [1, 2, 3]\n",
    "x=0\n",
    "while x < len(L):\n",
    "    print(L[x])\n",
    "    x+=1"
   ]
  },
  {
   "cell_type": "code",
   "execution_count": 25,
   "metadata": {},
   "outputs": [
    {
     "name": "stdout",
     "output_type": "stream",
     "text": [
      "7\n",
      "8\n",
      "9\n",
      "10\n",
      "11\n",
      "12\n"
     ]
    }
   ],
   "source": [
    "L = [7, 8, 9, 10, 11, 12]\n",
    "x=0\n",
    "while x < len(L):\n",
    "    print(L[x])\n",
    "    x+=1"
   ]
  },
  {
   "cell_type": "markdown",
   "metadata": {},
   "source": [
    "## Adição de Elementos"
   ]
  },
  {
   "cell_type": "code",
   "execution_count": 28,
   "metadata": {},
   "outputs": [],
   "source": [
    "L = []"
   ]
  },
  {
   "cell_type": "code",
   "execution_count": 29,
   "metadata": {},
   "outputs": [
    {
     "data": {
      "text/plain": [
       "['a']"
      ]
     },
     "execution_count": 29,
     "metadata": {},
     "output_type": "execute_result"
    }
   ],
   "source": [
    "L.append(\"a\")\n",
    "L"
   ]
  },
  {
   "cell_type": "code",
   "execution_count": 30,
   "metadata": {},
   "outputs": [
    {
     "data": {
      "text/plain": [
       "['a', 'b']"
      ]
     },
     "execution_count": 30,
     "metadata": {},
     "output_type": "execute_result"
    }
   ],
   "source": [
    "L.append(\"b\")\n",
    "L"
   ]
  },
  {
   "cell_type": "code",
   "execution_count": 31,
   "metadata": {},
   "outputs": [
    {
     "name": "stdout",
     "output_type": "stream",
     "text": [
      "['a', 'b', 'c']\n",
      "3\n"
     ]
    }
   ],
   "source": [
    "L.append(\"c\")\n",
    "print(L)\n",
    "print(len(L))"
   ]
  },
  {
   "cell_type": "markdown",
   "metadata": {},
   "source": [
    "### Faça um programa que leia números, até que 0 seja digitado.\n",
    "### Alimente os números lidos em uma lista, sem incluir o 0\n",
    "### Ao final, imprima todos os elementos da lista"
   ]
  },
  {
   "cell_type": "code",
   "execution_count": 32,
   "metadata": {},
   "outputs": [
    {
     "name": "stdout",
     "output_type": "stream",
     "text": [
      "Digite um numero (0 para sair): 1\n",
      "Digite um numero (0 para sair): 4\n",
      "Digite um numero (0 para sair): 7\n",
      "Digite um numero (0 para sair): 9\n",
      "Digite um numero (0 para sair): 0\n",
      "1\n",
      "4\n",
      "7\n",
      "9\n"
     ]
    }
   ],
   "source": [
    "L = []\n",
    "while True:\n",
    "    n=int(input(\"Digite um numero (0 para sair): \"))\n",
    "    if n == 0:\n",
    "        break\n",
    "    L.append(n)\n",
    "x=0\n",
    "while x < len(L):\n",
    "    print(L[x])\n",
    "    x+=1"
   ]
  },
  {
   "cell_type": "markdown",
   "metadata": {},
   "source": [
    "### Adição de Listas"
   ]
  },
  {
   "cell_type": "code",
   "execution_count": 33,
   "metadata": {},
   "outputs": [
    {
     "data": {
      "text/plain": [
       "[1]"
      ]
     },
     "execution_count": 33,
     "metadata": {},
     "output_type": "execute_result"
    }
   ],
   "source": [
    "L = []\n",
    "L = L+[1]\n",
    "L"
   ]
  },
  {
   "cell_type": "code",
   "execution_count": 34,
   "metadata": {},
   "outputs": [
    {
     "data": {
      "text/plain": [
       "[1, 2]"
      ]
     },
     "execution_count": 34,
     "metadata": {},
     "output_type": "execute_result"
    }
   ],
   "source": [
    "L = L+[2]\n",
    "L"
   ]
  },
  {
   "cell_type": "code",
   "execution_count": 35,
   "metadata": {},
   "outputs": [
    {
     "data": {
      "text/plain": [
       "[1, 2, 3, 4, 5]"
      ]
     },
     "execution_count": 35,
     "metadata": {},
     "output_type": "execute_result"
    }
   ],
   "source": [
    "L+=[3,4,5]\n",
    "L"
   ]
  },
  {
   "cell_type": "markdown",
   "metadata": {},
   "source": [
    "### Adição de elementos e listas"
   ]
  },
  {
   "cell_type": "code",
   "execution_count": 36,
   "metadata": {},
   "outputs": [
    {
     "data": {
      "text/plain": [
       "['a', 'b']"
      ]
     },
     "execution_count": 36,
     "metadata": {},
     "output_type": "execute_result"
    }
   ],
   "source": [
    "L=[\"a\"]\n",
    "L.append(\"b\")\n",
    "L"
   ]
  },
  {
   "cell_type": "code",
   "execution_count": 37,
   "metadata": {},
   "outputs": [
    {
     "data": {
      "text/plain": [
       "['a', 'b', 'c']"
      ]
     },
     "execution_count": 37,
     "metadata": {},
     "output_type": "execute_result"
    }
   ],
   "source": [
    "L.extend([\"c\"])\n",
    "L"
   ]
  },
  {
   "cell_type": "markdown",
   "metadata": {},
   "source": [
    "# Exercicios\n",
    "## 1. Faça um programa que leia duas listas e que gere uma terceira com os elementos das duas primeiras\n",
    "## 2. Faça um programa que percorra duas listas e gere uma terceira sem elementos repetidos"
   ]
  },
  {
   "cell_type": "code",
   "execution_count": 44,
   "metadata": {},
   "outputs": [
    {
     "name": "stdout",
     "output_type": "stream",
     "text": [
      "{1, 2, 3, 5, 6}\n"
     ]
    }
   ],
   "source": [
    "A = [1, 2, 3]\n",
    "B = [3, 6, 5]\n",
    "C = set(A + B)\n",
    "print(C)"
   ]
  },
  {
   "cell_type": "markdown",
   "metadata": {},
   "source": [
    "# Remoção de elementos da lista"
   ]
  },
  {
   "cell_type": "code",
   "execution_count": 45,
   "metadata": {},
   "outputs": [
    {
     "data": {
      "text/plain": [
       "['a', 'c']"
      ]
     },
     "execution_count": 45,
     "metadata": {},
     "output_type": "execute_result"
    }
   ],
   "source": [
    "L=[\"a\", \"b\", \"c\"]\n",
    "del L[1]\n",
    "L"
   ]
  },
  {
   "cell_type": "code",
   "execution_count": 46,
   "metadata": {},
   "outputs": [],
   "source": [
    "L=list(range(101))"
   ]
  },
  {
   "cell_type": "code",
   "execution_count": 47,
   "metadata": {},
   "outputs": [
    {
     "data": {
      "text/plain": [
       "[0,\n",
       " 1,\n",
       " 2,\n",
       " 3,\n",
       " 4,\n",
       " 5,\n",
       " 6,\n",
       " 7,\n",
       " 8,\n",
       " 9,\n",
       " 10,\n",
       " 11,\n",
       " 12,\n",
       " 13,\n",
       " 14,\n",
       " 15,\n",
       " 16,\n",
       " 17,\n",
       " 18,\n",
       " 19,\n",
       " 20,\n",
       " 21,\n",
       " 22,\n",
       " 23,\n",
       " 24,\n",
       " 25,\n",
       " 26,\n",
       " 27,\n",
       " 28,\n",
       " 29,\n",
       " 30,\n",
       " 31,\n",
       " 32,\n",
       " 33,\n",
       " 34,\n",
       " 35,\n",
       " 36,\n",
       " 37,\n",
       " 38,\n",
       " 39,\n",
       " 40,\n",
       " 41,\n",
       " 42,\n",
       " 43,\n",
       " 44,\n",
       " 45,\n",
       " 46,\n",
       " 47,\n",
       " 48,\n",
       " 49,\n",
       " 50,\n",
       " 51,\n",
       " 52,\n",
       " 53,\n",
       " 54,\n",
       " 55,\n",
       " 56,\n",
       " 57,\n",
       " 58,\n",
       " 59,\n",
       " 60,\n",
       " 61,\n",
       " 62,\n",
       " 63,\n",
       " 64,\n",
       " 65,\n",
       " 66,\n",
       " 67,\n",
       " 68,\n",
       " 69,\n",
       " 70,\n",
       " 71,\n",
       " 72,\n",
       " 73,\n",
       " 74,\n",
       " 75,\n",
       " 76,\n",
       " 77,\n",
       " 78,\n",
       " 79,\n",
       " 80,\n",
       " 81,\n",
       " 82,\n",
       " 83,\n",
       " 84,\n",
       " 85,\n",
       " 86,\n",
       " 87,\n",
       " 88,\n",
       " 89,\n",
       " 90,\n",
       " 91,\n",
       " 92,\n",
       " 93,\n",
       " 94,\n",
       " 95,\n",
       " 96,\n",
       " 97,\n",
       " 98,\n",
       " 99,\n",
       " 100]"
      ]
     },
     "execution_count": 47,
     "metadata": {},
     "output_type": "execute_result"
    }
   ],
   "source": [
    "L"
   ]
  },
  {
   "cell_type": "code",
   "execution_count": 48,
   "metadata": {},
   "outputs": [
    {
     "data": {
      "text/plain": [
       "[0, 99, 100]"
      ]
     },
     "execution_count": 48,
     "metadata": {},
     "output_type": "execute_result"
    }
   ],
   "source": [
    "del L[1:99]\n",
    "L"
   ]
  },
  {
   "cell_type": "markdown",
   "metadata": {},
   "source": [
    "# Listas como Filas\n",
    "## FIFO\n",
    "### Inclusões sempre realizadas no fim\n",
    "### Exclusões sempre realizadas no inicio"
   ]
  },
  {
   "cell_type": "markdown",
   "metadata": {},
   "source": [
    "### del?"
   ]
  },
  {
   "cell_type": "markdown",
   "metadata": {},
   "source": [
    "### pop\n",
    "#### fila.pop(0) retorna o valor do elemento retirando da fila. "
   ]
  },
  {
   "cell_type": "markdown",
   "metadata": {},
   "source": [
    "### E Pilhas?\n",
    "#### LIFO\n",
    "#### novos elementos são adicionados ao topo. A retirada de elementos também é feita pelo topo."
   ]
  },
  {
   "cell_type": "code",
   "execution_count": 49,
   "metadata": {},
   "outputs": [
    {
     "name": "stdout",
     "output_type": "stream",
     "text": [
      "\n",
      "Existem 10 clientes na fila\n",
      "Fila atual:  [1, 2, 3, 4, 5, 6, 7, 8, 9, 10]\n",
      "Digite F para adicionar um cliente ao fim da fila,\n",
      "ou A para realizar o atendimento. S para sair\n",
      "Operacao (F, A ou S): A\n",
      "Cliente 1 atendido \n",
      "\n",
      "Existem 9 clientes na fila\n",
      "Fila atual:  [2, 3, 4, 5, 6, 7, 8, 9, 10]\n",
      "Digite F para adicionar um cliente ao fim da fila,\n",
      "ou A para realizar o atendimento. S para sair\n",
      "Operacao (F, A ou S): A\n",
      "Cliente 2 atendido \n",
      "\n",
      "Existem 8 clientes na fila\n",
      "Fila atual:  [3, 4, 5, 6, 7, 8, 9, 10]\n",
      "Digite F para adicionar um cliente ao fim da fila,\n",
      "ou A para realizar o atendimento. S para sair\n",
      "Operacao (F, A ou S): F\n",
      "\n",
      "Existem 9 clientes na fila\n",
      "Fila atual:  [3, 4, 5, 6, 7, 8, 9, 10, 11]\n",
      "Digite F para adicionar um cliente ao fim da fila,\n",
      "ou A para realizar o atendimento. S para sair\n",
      "Operacao (F, A ou S): F\n",
      "\n",
      "Existem 10 clientes na fila\n",
      "Fila atual:  [3, 4, 5, 6, 7, 8, 9, 10, 11, 12]\n",
      "Digite F para adicionar um cliente ao fim da fila,\n",
      "ou A para realizar o atendimento. S para sair\n",
      "Operacao (F, A ou S): a\n",
      "Operacao invalida. Digite F, A ou S\n",
      "\n",
      "Existem 10 clientes na fila\n",
      "Fila atual:  [3, 4, 5, 6, 7, 8, 9, 10, 11, 12]\n",
      "Digite F para adicionar um cliente ao fim da fila,\n",
      "ou A para realizar o atendimento. S para sair\n",
      "Operacao (F, A ou S): A\n",
      "Cliente 3 atendido \n",
      "\n",
      "Existem 9 clientes na fila\n",
      "Fila atual:  [4, 5, 6, 7, 8, 9, 10, 11, 12]\n",
      "Digite F para adicionar um cliente ao fim da fila,\n",
      "ou A para realizar o atendimento. S para sair\n",
      "Operacao (F, A ou S): S\n"
     ]
    }
   ],
   "source": [
    "#Simulação de uma fila de banco\n",
    "ultimo = 10\n",
    "fila = list(range(1,ultimo+1))\n",
    "while True:\n",
    "    print(\"\\nExistem %d clientes na fila\" %len(fila))\n",
    "    print(\"Fila atual: \", fila)\n",
    "    print(\"Digite F para adicionar um cliente ao fim da fila,\")\n",
    "    print(\"ou A para realizar o atendimento. S para sair\")\n",
    "    operacao = input(\"Operacao (F, A ou S): \")\n",
    "    if operacao == \"A\":\n",
    "        if(len(fila)>0):\n",
    "            atendido = fila.pop(0)\n",
    "            print(\"Cliente %d atendido \" %atendido)\n",
    "        else:\n",
    "            print(\"Fila vazia! Ninguem para atender\" )\n",
    "    elif operacao == \"F\":\n",
    "        ultimo+=1 #incrementa o ticket do novo cliente\n",
    "        fila.append(ultimo)\n",
    "    elif operacao == \"S\":\n",
    "        break\n",
    "    else:\n",
    "        print(\"Operacao invalida. Digite F, A ou S\")"
   ]
  },
  {
   "cell_type": "code",
   "execution_count": null,
   "metadata": {},
   "outputs": [
    {
     "name": "stdout",
     "output_type": "stream",
     "text": [
      "\n",
      "Existem 5 pratos na pilha \n",
      "Pilha atutal:  [1, 2, 3, 4, 5]\n",
      "Digite E para empilhar um novo prato ou D para desempilhar. S para sair\n",
      "Operacao (E, D ou S): e\n",
      "Operacao invalida. Digite E, D ou S\n",
      "\n",
      "Existem 5 pratos na pilha \n",
      "Pilha atutal:  [1, 2, 3, 4, 5]\n",
      "Digite E para empilhar um novo prato ou D para desempilhar. S para sair\n",
      "Operacao (E, D ou S): E\n",
      "\n",
      "Existem 6 pratos na pilha \n",
      "Pilha atutal:  [1, 2, 3, 4, 5, 6]\n",
      "Digite E para empilhar um novo prato ou D para desempilhar. S para sair\n",
      "Operacao (E, D ou S): E\n",
      "\n",
      "Existem 7 pratos na pilha \n",
      "Pilha atutal:  [1, 2, 3, 4, 5, 6, 7]\n",
      "Digite E para empilhar um novo prato ou D para desempilhar. S para sair\n",
      "Operacao (E, D ou S): D\n",
      "Prato 7 lavado\n",
      "\n",
      "Existem 6 pratos na pilha \n",
      "Pilha atutal:  [1, 2, 3, 4, 5, 6]\n",
      "Digite E para empilhar um novo prato ou D para desempilhar. S para sair\n",
      "Operacao (E, D ou S): D\n",
      "Prato 6 lavado\n",
      "\n",
      "Existem 5 pratos na pilha \n",
      "Pilha atutal:  [1, 2, 3, 4, 5]\n",
      "Digite E para empilhar um novo prato ou D para desempilhar. S para sair\n",
      "Operacao (E, D ou S): D\n",
      "Prato 5 lavado\n",
      "\n",
      "Existem 4 pratos na pilha \n",
      "Pilha atutal:  [1, 2, 3, 4]\n",
      "Digite E para empilhar um novo prato ou D para desempilhar. S para sair\n",
      "Operacao (E, D ou S): D\n",
      "Prato 4 lavado\n",
      "\n",
      "Existem 3 pratos na pilha \n",
      "Pilha atutal:  [1, 2, 3]\n",
      "Digite E para empilhar um novo prato ou D para desempilhar. S para sair\n"
     ]
    }
   ],
   "source": [
    "#Pilha de pratos\n",
    "prato = 5\n",
    "pilha = list(range(1,prato+1))\n",
    "while True:\n",
    "    print(\"\\nExistem %d pratos na pilha \" %len(pilha))\n",
    "    print(\"Pilha atutal: \", pilha)\n",
    "    print(\"Digite E para empilhar um novo prato ou D para desempilhar. S para sair\")\n",
    "    operacao = input(\"Operacao (E, D ou S): \")\n",
    "    if operacao == \"D\":\n",
    "        if(len(pilha)>0):\n",
    "            lavado = pilha.pop(-1)\n",
    "            print(\"Prato %d lavado\" %lavado)\n",
    "        else:\n",
    "            print(\"Pilha vazia. Nada para lavar\")\n",
    "    elif operacao == \"E\":\n",
    "        prato+=1 #novo prato\n",
    "        pilha.append(prato)\n",
    "    elif operacao == \"S\":\n",
    "        break\n",
    "    else:\n",
    "        print(\"Operacao invalida. Digite E, D ou S\")\n",
    "    "
   ]
  },
  {
   "cell_type": "markdown",
   "metadata": {},
   "source": [
    "### Pesquisa em listas"
   ]
  },
  {
   "cell_type": "code",
   "execution_count": null,
   "metadata": {},
   "outputs": [],
   "source": [
    "L=[15,7,27,39]\n",
    "p=int(input(\"Digite o valor a procurar\"))\n",
    "achou = False\n",
    "x = 0\n",
    "while x<len(L):\n",
    "    if L[x]==p:\n",
    "        achou = True\n",
    "        break\n",
    "    x+=1\n",
    "if achou:\n",
    "    print(\"%d Achado na posicao %d\" %(p,x))\n",
    "else:\n",
    "    print(\"%d nao encontradoo\" %p)"
   ]
  },
  {
   "cell_type": "code",
   "execution_count": null,
   "metadata": {},
   "outputs": [],
   "source": [
    "L=[8,9,15]\n",
    "for e in L:\n",
    "    print(e)"
   ]
  },
  {
   "cell_type": "markdown",
   "metadata": {},
   "source": [
    "### Modifique o programa anterior que faz pesquisa em uma lista, utilizando for em vez de while"
   ]
  },
  {
   "cell_type": "code",
   "execution_count": null,
   "metadata": {},
   "outputs": [],
   "source": []
  }
 ],
 "metadata": {
  "kernelspec": {
   "display_name": "Python 3",
   "language": "python",
   "name": "python3"
  },
  "language_info": {
   "codemirror_mode": {
    "name": "ipython",
    "version": 3
   },
   "file_extension": ".py",
   "mimetype": "text/x-python",
   "name": "python",
   "nbconvert_exporter": "python",
   "pygments_lexer": "ipython3",
   "version": "3.6.4"
  }
 },
 "nbformat": 4,
 "nbformat_minor": 2
}
