{
 "cells": [
  {
   "cell_type": "markdown",
   "metadata": {
    "slideshow": {
     "slide_type": "slide"
    }
   },
   "source": [
    "# Introdução à Linguagem de Programação Python\n",
    "## Informática Biomédica - UFCSPA\n",
    "## Profa. Ana Trindade Winck \n",
    "\n",
    "#### 06 de Março de 2018\n",
    "\n",
    "\n",
    "![pythoneasy](https://qph.fs.quoracdn.net/main-qimg-931644a5bce2ef94a323661319a82303)\n",
    "\n"
   ]
  },
  {
   "cell_type": "markdown",
   "metadata": {
    "slideshow": {
     "slide_type": "slide"
    }
   },
   "source": [
    "# Introdução à Linguagem de Programação Python\n",
    "## Informática Biomédica - UFCSPA\n",
    "## Profa. Ana Trindade Winck \n",
    "\n",
    "#### Estruturas de controle e repetição\n",
    "\n",
    "\n",
    "#### 06 de Março de 2018\n",
    "\n",
    "Materiais retirados ou adaptados de Menezes, N.N.C. \"Introdução à Programação com Python: algoritmos e lógica de programação para iniciantes\". Novactec, 2014.\n",
    "\n",
    "Códigos em python 2.7"
   ]
  },
  {
   "cell_type": "markdown",
   "metadata": {
    "collapsed": true,
    "slideshow": {
     "slide_type": "subslide"
    }
   },
   "source": [
    "# Como ler um valor do teclado?"
   ]
  },
  {
   "cell_type": "code",
   "execution_count": null,
   "metadata": {
    "slideshow": {
     "slide_type": "subslide"
    }
   },
   "outputs": [],
   "source": [
    "x = input(\"Digite um numero\")\n",
    "print(x)"
   ]
  },
  {
   "cell_type": "code",
   "execution_count": null,
   "metadata": {
    "slideshow": {
     "slide_type": "subslide"
    }
   },
   "outputs": [],
   "source": [
    "nome = input(\"Digite seu nome\")\n",
    "print(\"Olá, %s!\" % nome)"
   ]
  },
  {
   "cell_type": "markdown",
   "metadata": {
    "slideshow": {
     "slide_type": "slide"
    }
   },
   "source": [
    "# Exercicio\n",
    "#### Faça um código que leia peso e altura de alguém e calcule o IMC "
   ]
  },
  {
   "cell_type": "code",
   "execution_count": null,
   "metadata": {
    "slideshow": {
     "slide_type": "subslide"
    }
   },
   "outputs": [],
   "source": [
    "# Situacao 1\n",
    "peso = float(input(\"Peso: \"))\n",
    "altura = float(input(\"Altura: \"))\n",
    "\n",
    "imc = peso/(altura*altura)\n",
    "\n",
    "print(\"IMC: %f\" % imc)\n"
   ]
  },
  {
   "cell_type": "code",
   "execution_count": null,
   "metadata": {
    "slideshow": {
     "slide_type": "subslide"
    }
   },
   "outputs": [],
   "source": [
    "# Situacao 2\n",
    "peso = input(\"Peso: \")\n",
    "altura = input(\"Altura: \")\n",
    "\n",
    "imc = float(peso)/(float(altura)*float(altura))\n",
    "\n",
    "print(\"IMC: %f\" % imc)\n"
   ]
  },
  {
   "cell_type": "markdown",
   "metadata": {
    "slideshow": {
     "slide_type": "slide"
    }
   },
   "source": [
    "# Conversão de Tipos\n",
    "\n",
    "- float\n",
    "- int\n",
    "- string\n",
    "- bool"
   ]
  },
  {
   "cell_type": "markdown",
   "metadata": {
    "collapsed": true,
    "slideshow": {
     "slide_type": "slide"
    }
   },
   "source": [
    "# Exercício\n",
    "\n",
    "### Escreva um programa para calcular a redução do tempo de vida de um fumante. Pergunte a quantidade de cigarros fumados por dia e quantos anos ele já fumou. Considerando que um fumante perde 10 minutos de vida a cada cigarro, calcule quantos dias de vida um fumante perderá. Exiba o total em dias"
   ]
  },
  {
   "cell_type": "code",
   "execution_count": null,
   "metadata": {
    "slideshow": {
     "slide_type": "subslide"
    }
   },
   "outputs": [],
   "source": [
    "#Exercício\n",
    "#Escreva um programa para calcular a redução do tempo de vida de um fumante. Pergunte a quantidade de cigarros fumados por dia e quantos anos ele já fumou. Considerando que um fumante perde 10 minutos de vida a cada cigarro, calcule quantos dias de vida um fumante perderá. Exiba o total em dias\n",
    "\n",
    "qtdCigarros = int(input(\"Cigarros por dia: \"))\n",
    "anosFumando = int(input(\"Anos fumando: \"))\n",
    "\n",
    "totalCigarros = (anosFumando * 365)*qtdCigarros\n",
    "diasPerdidos = (totalCigarros * 10)/24\n",
    "\n",
    "print ('Dias perdidos %d' %diasPerdidos )"
   ]
  },
  {
   "cell_type": "markdown",
   "metadata": {
    "slideshow": {
     "slide_type": "slide"
    }
   },
   "source": [
    "## Condições\n",
    "\n",
    "![ifelse](https://i.imgflip.com/1sif7f.jpg)\n",
    "\n"
   ]
  },
  {
   "cell_type": "code",
   "execution_count": null,
   "metadata": {
    "slideshow": {
     "slide_type": "subslide"
    }
   },
   "outputs": [],
   "source": [
    "a = int(input(\"Valor A: \"))\n",
    "b = int(input(\"Valor B: \"))\n",
    "\n",
    "if a > b:\n",
    "    print(\"'A' é maior\")\n",
    "if b > a:\n",
    "    print(\"'B' é maior\")"
   ]
  },
  {
   "cell_type": "code",
   "execution_count": null,
   "metadata": {
    "slideshow": {
     "slide_type": "subslide"
    }
   },
   "outputs": [],
   "source": [
    "a = int(input(\"Valor A: \"))\n",
    "b = int(input(\"Valor B: \"))\n",
    "\n",
    "if a > b:\n",
    "    print(\"'A' é maior\")\n",
    "else:\n",
    "    print(\"'B' é maior\")\n"
   ]
  },
  {
   "cell_type": "markdown",
   "metadata": {
    "slideshow": {
     "slide_type": "slide"
    }
   },
   "source": [
    "# Exercício\n",
    "\n",
    "### Altere o código para também verificar se os valores a e b são iguais"
   ]
  },
  {
   "cell_type": "code",
   "execution_count": null,
   "metadata": {
    "slideshow": {
     "slide_type": "subslide"
    }
   },
   "outputs": [],
   "source": [
    "a = int(input(\"Valor A: \"))\n",
    "b = int(input(\"Valor B: \"))\n",
    "\n",
    "if a > b:\n",
    "    print(\"'A' é maior\")\n",
    "else: \n",
    "    if b > a:\n",
    "        print(\"'B' é maior\")\n",
    "    else:\n",
    "        print(\"A e B são iguais\")\n"
   ]
  },
  {
   "cell_type": "code",
   "execution_count": null,
   "metadata": {
    "slideshow": {
     "slide_type": "subslide"
    }
   },
   "outputs": [],
   "source": [
    "a = int(input(\"Valor A: \"))\n",
    "b = int(input(\"Valor B: \"))\n",
    "\n",
    "if a > b:\n",
    "    print(\"'A' é maior\")\n",
    "elif b > a:\n",
    "    print(\"'B' é maior\")\n",
    "else:\n",
    "    print(\"A e B são iguais\")\n"
   ]
  },
  {
   "cell_type": "markdown",
   "metadata": {
    "slideshow": {
     "slide_type": "slide"
    }
   },
   "source": [
    "# Exercício\n",
    "\n",
    "\n",
    "### 1. Desenvolva um código que leia dois valores inteiros entre 1 e 10, calcule e imprima: a média dos números, caso a soma deles for menor do que 8; seu produto, caso a soma seja igual a 8; a divisão do maior pelo menor, caso a soma dos valores seja maior do que 8. \n",
    "\n",
    "### 2. Faça um código que receba valores A, B e C e veriﬁque se eles podem ser comprimentos dos lados de um triângulo. Se puderem, veriﬁque se trata-se de um triângulo equilátero, isósceles ou escaleno. Se eles não formarem um triângulo, escreva uma mensagem. Considere que o comprimento de cada lado do triângulo é menor do que a soma dos outros dois lados. "
   ]
  },
  {
   "cell_type": "markdown",
   "metadata": {
    "slideshow": {
     "slide_type": "slide"
    }
   },
   "source": [
    "## Repetições\n",
    "\n",
    "![loop](https://memegenerator.net/img/instances/500x/56644131/not-sure-if-my-code-is-in-an-infinite-loop-or-my-computer-is-just-slow.jpg)\n"
   ]
  },
  {
   "cell_type": "code",
   "execution_count": null,
   "metadata": {
    "slideshow": {
     "slide_type": "subslide"
    }
   },
   "outputs": [],
   "source": [
    "x = 1\n",
    "while x<=3:\n",
    "    print(x)\n",
    "    x+=1"
   ]
  },
  {
   "cell_type": "markdown",
   "metadata": {
    "slideshow": {
     "slide_type": "slide"
    }
   },
   "source": [
    "# Exercício\n",
    "#### Modifique o programa para fazer uma contagem regressiva de 10 a 0"
   ]
  },
  {
   "cell_type": "code",
   "execution_count": null,
   "metadata": {
    "scrolled": true,
    "slideshow": {
     "slide_type": "subslide"
    }
   },
   "outputs": [],
   "source": [
    "x = 1\n",
    "while x > 0:\n",
    "    x = int(input(\"Digite um valor\"))\n"
   ]
  },
  {
   "cell_type": "code",
   "execution_count": null,
   "metadata": {
    "slideshow": {
     "slide_type": "subslide"
    }
   },
   "outputs": [],
   "source": [
    "x = 1\n",
    "while x > 0:\n",
    "    x = int(input(\"Digite um valor\"))\n",
    "    if x == 1:\n",
    "        break"
   ]
  },
  {
   "cell_type": "markdown",
   "metadata": {
    "slideshow": {
     "slide_type": "slide"
    }
   },
   "source": [
    "# Exercício\n",
    "#### Modifique o programa para calcular a soma de x e imprií-la, ao final. Não incluir na soma caso o valor lido para x for maior do que 10"
   ]
  },
  {
   "cell_type": "markdown",
   "metadata": {
    "slideshow": {
     "slide_type": "slide"
    }
   },
   "source": [
    "# Exercício\n",
    "### 4. Faça um código que receba “n” números e mostre positivo, negativo ou zero para cada número. O valor de n deve ser lido\n",
    "\n",
    "### 5. Implemente um código que calcule e escreva o valor de S: ( S = 1/1 + 3/2 + 5/3 + 7/4 + ... + 99/50)\n",
    "\n",
    "### 6. Faça um código que solicite ao usuário para digitar valores numéricos inteiros positivos. Encerre a entrada de dados quando for digitado um número negativo ou zero. Calcule a média dos números positivos digitados. \n",
    "\n",
    "### 7. Faça um programa que solicite ao usuário 10 números inteiros e, ao ﬁnal, informe a quantidade de números ímpares e pares lidos. Calcule também a soma dos números pares e a média dos números ímpares\n",
    "### 8. Escreva um código que leia um valor n e imprima os n primeiros números primos."
   ]
  },
  {
   "cell_type": "code",
   "execution_count": null,
   "metadata": {
    "slideshow": {
     "slide_type": "subslide"
    }
   },
   "outputs": [],
   "source": [
    "for n in range(1,10):\n",
    "    print(n)"
   ]
  },
  {
   "cell_type": "markdown",
   "metadata": {
    "slideshow": {
     "slide_type": "slide"
    }
   },
   "source": [
    "# Exercício\n",
    "\n",
    "### 9. Escreva um algoritmo que calcula o fatorial de um número \n",
    "### 10. Leia uma sequência de N números e, para cada número lido, calcule o seu fatorial \n",
    "### 11. Faça um algoritmo que leia A e B e imprima todos os números no intervalo entre A e B, inclusive\n",
    "### 12. Escreva um algoritmo para calcular a soma da seguinte série  1+1/3+1/6+1/9+1/12+... dos N primeiros termos. O valor de N deve ser lido\n",
    "### 13.  Escreva um algoritmo que lê N números inteiros. O algoritmo deve calcular e escrever a média dos elementos cujo valor seja maior que a posição em que o valor foi lido, ou seja, por exemplo, o décimo valor lido é válido se ele for maior que 10. Os elementos não contabilizados devem ser somados e o valor subtraído da média calculada. O resultado da operação também deve ser escrito. \n",
    "\n"
   ]
  }
 ],
 "metadata": {
  "celltoolbar": "Slideshow",
  "kernelspec": {
   "display_name": "Python 3",
   "language": "python",
   "name": "python3"
  },
  "language_info": {
   "codemirror_mode": {
    "name": "ipython",
    "version": 3
   },
   "file_extension": ".py",
   "mimetype": "text/x-python",
   "name": "python",
   "nbconvert_exporter": "python",
   "pygments_lexer": "ipython3",
   "version": "3.6.4"
  }
 },
 "nbformat": 4,
 "nbformat_minor": 2
}
